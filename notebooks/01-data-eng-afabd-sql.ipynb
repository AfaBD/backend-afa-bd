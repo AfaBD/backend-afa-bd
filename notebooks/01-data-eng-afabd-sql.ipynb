{
 "cells": [
  {
   "cell_type": "markdown",
   "id": "a6e523c2-cc65-4d21-a840-44a0e7cedbc3",
   "metadata": {},
   "source": [
    "#### CE-240 - Database Systems Design\n",
    "##### Analysis of student fluency - AFA-BD\n",
    " - Feature: Spark SQL instructions\n",
    " - Author: Strauss\n",
    " - Date: 2024-05-31"
   ]
  },
  {
   "cell_type": "markdown",
   "id": "68cc83e3-962b-45dc-aa5d-8a9fb9d47abd",
   "metadata": {},
   "source": [
    "#### Main Goal"
   ]
  },
  {
   "cell_type": "code",
   "execution_count": 1,
   "id": "1b3e03e2-3a85-4f18-bf52-7440af3c988e",
   "metadata": {},
   "outputs": [],
   "source": [
    "import pyspark\n",
    "from pyspark.sql import SQLContext\n",
    "from pyspark.sql.functions import rand,when\n",
    "from pyspark.sql.functions import lit\n",
    "from pyspark.sql import functions as f\n",
    "from pyspark.sql.functions import row_number, monotonically_increasing_id \n",
    "from pyspark.sql.window import Window\n",
    "from pyspark.sql.types import StructType, IntegerType, StringType\n",
    "import random\n",
    "import warnings\n",
    "import sqlite3\n",
    "warnings.filterwarnings('ignore')"
   ]
  },
  {
   "cell_type": "code",
   "execution_count": 2,
   "id": "9c702a5e-0ad2-480e-b8aa-25651edc08a8",
   "metadata": {},
   "outputs": [
    {
     "name": "stderr",
     "output_type": "stream",
     "text": [
      "Setting default log level to \"WARN\".\n",
      "To adjust logging level use sc.setLogLevel(newLevel). For SparkR, use setLogLevel(newLevel).\n",
      "24/06/03 02:13:20 WARN NativeCodeLoader: Unable to load native-hadoop library for your platform... using builtin-java classes where applicable\n"
     ]
    }
   ],
   "source": [
    "#sc.stop()\n",
    "sc = pyspark.SparkContext('local[*]')\n",
    "sqlc = SQLContext(sc)"
   ]
  },
  {
   "cell_type": "code",
   "execution_count": 3,
   "id": "f07e6005-8304-4946-b9d4-4060933ff47f",
   "metadata": {},
   "outputs": [],
   "source": [
    "pth = 'file:////home/jovyan/work/data'\n",
    "\n",
    "fle_std = '{0}/tb-students.csv'.format(pth)\n",
    "fle_pro = '{0}/tb-professors.csv'.format(pth)\n",
    "fle_sch = '{0}/tb-inep.csv'.format(pth)"
   ]
  },
  {
   "cell_type": "markdown",
   "id": "06c043f4-9a7d-4737-8c5e-a610c51f6ef4",
   "metadata": {},
   "source": [
    "#### 1 - Loading Data"
   ]
  },
  {
   "cell_type": "markdown",
   "id": "3fa77cf7-534f-41ed-95f2-a75cbc20353b",
   "metadata": {},
   "source": [
    "##### 1.1 - Loading the Student dataframe"
   ]
  },
  {
   "cell_type": "code",
   "execution_count": 4,
   "id": "7e8d80fe-cdcf-4129-b5e2-d47bd31acd82",
   "metadata": {},
   "outputs": [
    {
     "name": "stderr",
     "output_type": "stream",
     "text": [
      "24/06/03 02:13:29 WARN PythonRunner: Detected deadlock while completing task 0.0 in stage 0 (TID 0): Attempting to kill Python Worker\n",
      "24/06/03 02:13:30 WARN CSVHeaderChecker: CSV header does not conform to the schema.\n",
      " Header: , alu_id, alu_nome, alu_sexo, alu_endereco, alu_cidade, alu_cep, alu_uf, alu_telefone, alu_email, alu_data_nascimento, pro_latitude, pro_longitude, tur_id, progresso_alfabetizacao\n",
      " Schema: _c0, alu_id, alu_nome, alu_sexo, alu_endereco, alu_cidade, alu_cep, alu_uf, alu_telefone, alu_email, alu_data_nascimento, pro_latitude, pro_longitude, tur_id, progresso_alfabetizacao\n",
      "Expected: _c0 but found: \n",
      "CSV source: [value: string]\n",
      "[Stage 2:>                                                          (0 + 6) / 6]\r"
     ]
    },
    {
     "name": "stdout",
     "output_type": "stream",
     "text": [
      "Dataframe Spark possui 1000000 linhas\n"
     ]
    },
    {
     "name": "stderr",
     "output_type": "stream",
     "text": [
      "                                                                                \r"
     ]
    }
   ],
   "source": [
    "rdd = sc.textFile(fle_std)\n",
    "dfs_std = sqlc.read.csv(rdd, header=True, inferSchema=True, sep=',')\n",
    "print('Dataframe Spark possui {0} linhas'.format(dfs_std.count()))"
   ]
  },
  {
   "cell_type": "code",
   "execution_count": 5,
   "id": "2df0f735-ef22-4862-bf2f-60fc548e7ab0",
   "metadata": {},
   "outputs": [
    {
     "name": "stderr",
     "output_type": "stream",
     "text": [
      "[Stage 5:>                                                          (0 + 1) / 1]\r"
     ]
    },
    {
     "name": "stdout",
     "output_type": "stream",
     "text": [
      "-RECORD 0------------------------------------------------------------------------------------\n",
      " _c0                     | 0                                                                 \n",
      " alu_id                  | 3011133716                                                        \n",
      " alu_nome                | Enrico da Rocha                                                   \n",
      " alu_sexo                | F                                                                 \n",
      " alu_endereco            | Travessa de Nunes, 34 Mangueiras 77558573 Barbosa de Pereira / PI \n",
      " alu_cidade              | Pinto                                                             \n",
      " alu_cep                 | 77137055                                                          \n",
      " alu_uf                  | RR                                                                \n",
      " alu_telefone            | (061) 0341-7969                                                   \n",
      " alu_email               | evelyncaldeira@example.org                                        \n",
      " alu_data_nascimento     | 2017-09-15                                                        \n",
      " pro_latitude            | -0.71667                                                          \n",
      " pro_longitude           | -48.52333                                                         \n",
      " tur_id                  | 4                                                                 \n",
      " progresso_alfabetizacao | 1                                                                 \n",
      "only showing top 1 row\n",
      "\n"
     ]
    },
    {
     "name": "stderr",
     "output_type": "stream",
     "text": [
      "24/06/03 02:13:36 WARN PythonRunner: Detected deadlock while completing task 0.0 in stage 5 (TID 14): Attempting to kill Python Worker\n",
      "                                                                                \r"
     ]
    }
   ],
   "source": [
    "dfs_std.show(n=1, truncate=False, vertical=True)"
   ]
  },
  {
   "cell_type": "markdown",
   "id": "c2507717-5c80-4cda-b47b-dd1fa61c4eec",
   "metadata": {},
   "source": [
    "##### 1.2 - Loading the Professors dataframe"
   ]
  },
  {
   "cell_type": "code",
   "execution_count": 6,
   "id": "5149eee6-b698-46a6-89d5-1ca6ec16c567",
   "metadata": {},
   "outputs": [
    {
     "name": "stderr",
     "output_type": "stream",
     "text": [
      "24/06/03 02:13:36 WARN CSVHeaderChecker: CSV header does not conform to the schema.\n",
      " Header: , pro_id, pro_nome, ultimo_nome, pro_senha, pro_sexo, pro_escolaridade, pro_credenciado, pro_endereco, pro_cidade, pro_cep, pro_uf, pro_pais, pro_telefone, pro_email, pro_nascimento, pro_latitude, pro_longitude, pro_salario\n",
      " Schema: _c0, pro_id, pro_nome, ultimo_nome, pro_senha, pro_sexo, pro_escolaridade, pro_credenciado, pro_endereco, pro_cidade, pro_cep, pro_uf, pro_pais, pro_telefone, pro_email, pro_nascimento, pro_latitude, pro_longitude, pro_salario\n",
      "Expected: _c0 but found: \n",
      "CSV source: [value: string]\n"
     ]
    },
    {
     "name": "stdout",
     "output_type": "stream",
     "text": [
      "Dataframe Spark possui 14000 linhas\n"
     ]
    }
   ],
   "source": [
    "rdd = sc.textFile(fle_pro)\n",
    "dfs_pro = sqlc.read.csv(rdd, header=True, inferSchema=True, sep=',')\n",
    "print('Dataframe Spark possui {0} linhas'.format(dfs_pro.count()))"
   ]
  },
  {
   "cell_type": "code",
   "execution_count": 7,
   "id": "882bb957-cc27-4fc5-8372-66974d2f8625",
   "metadata": {},
   "outputs": [
    {
     "name": "stdout",
     "output_type": "stream",
     "text": [
      "-RECORD 0--------------------------------------------------------------------------\n",
      " _c0              | 0                                                              \n",
      " pro_id           | 46631645                                                       \n",
      " pro_nome         | Sr. Vicente Azevedo                                            \n",
      " ultimo_nome      | Freitas                                                        \n",
      " pro_senha        | N#M4NiMHR^                                                     \n",
      " pro_sexo         | F                                                              \n",
      " pro_escolaridade | 3                                                              \n",
      " pro_credenciado  | 0                                                              \n",
      " pro_endereco     | Quadra Nogueira, 35 Boa União 1ª Seção 09964-112 da Rocha / AM \n",
      " pro_cidade       | Silva de Sales                                                 \n",
      " pro_cep          | 09074728                                                       \n",
      " pro_uf           | PE                                                             \n",
      " pro_pais         | Brazil                                                         \n",
      " pro_telefone     | 0500 267 3288                                                  \n",
      " pro_email        | jesusvitoria@example.com                                       \n",
      " pro_nascimento   | 1914-08-23                                                     \n",
      " pro_latitude     | -25.42778                                                      \n",
      " pro_longitude    | -49.27306                                                      \n",
      " pro_salario      | 4227.73                                                        \n",
      "only showing top 1 row\n",
      "\n"
     ]
    }
   ],
   "source": [
    "dfs_pro.show(n=1, truncate=False, vertical=True)"
   ]
  },
  {
   "cell_type": "markdown",
   "id": "92960180-30ba-4550-9ec4-220fa6290b8e",
   "metadata": {},
   "source": [
    "##### 1.3 - Loading the Schools dataframe"
   ]
  },
  {
   "cell_type": "code",
   "execution_count": 50,
   "id": "b1e819ea-23cb-495f-96e9-334883e004db",
   "metadata": {},
   "outputs": [
    {
     "name": "stderr",
     "output_type": "stream",
     "text": [
      "24/06/03 02:26:06 WARN PythonRunner: Detected deadlock while completing task 0.0 in stage 74 (TID 123): Attempting to kill Python Worker\n",
      "24/06/03 02:26:07 WARN CSVHeaderChecker: CSV header does not conform to the schema.\n",
      " Header: cod_inep, escola, uf, municipio, endereco, latitude, longitude, telefone, localizacao, localidade, categoria, dependencia, categoria, conveniada, regulamentacao, porte, modalidade, ofertas, restricao, situacao\n",
      " Schema: cod_inep, escola, uf, municipio, endereco, latitude, longitude, telefone, localizacao, localidade, categoria10, dependencia, categoria12, conveniada, regulamentacao, porte, modalidade, ofertas, restricao, situacao\n",
      "Expected: categoria10 but found: categoria\n",
      "CSV source: [value: string]\n",
      "[Stage 76:======================================>                   (2 + 1) / 3]\r"
     ]
    },
    {
     "name": "stdout",
     "output_type": "stream",
     "text": [
      "Dataframe Spark possui 180230 linhas\n"
     ]
    },
    {
     "name": "stderr",
     "output_type": "stream",
     "text": [
      "                                                                                \r"
     ]
    }
   ],
   "source": [
    "rdd = sc.textFile(fle_sch)\n",
    "dfs_sch = sqlc.read.csv(rdd, header=True, inferSchema=True, sep=';')\n",
    "print('Dataframe Spark possui {0} linhas'.format(dfs_sch.count()))"
   ]
  },
  {
   "cell_type": "code",
   "execution_count": 51,
   "id": "319fd540-357d-49bc-8f4c-e657f9bc9a96",
   "metadata": {},
   "outputs": [
    {
     "name": "stderr",
     "output_type": "stream",
     "text": [
      "[Stage 79:>                                                         (0 + 1) / 1]\r"
     ]
    },
    {
     "name": "stdout",
     "output_type": "stream",
     "text": [
      "-RECORD 0------------------------------------------------------------------------------------\n",
      " cod_inep       | 11000023                                                                   \n",
      " escola         | EEEE ABNAEL MACHADO DE LIMA - CENE                                         \n",
      " uf             | RO                                                                         \n",
      " municipio      | Porto Velho                                                                \n",
      " endereco       | AVENIDA AMAZONAS, 6492 ZONA LESTE. TIRADENTES. 76824-556 Porto Velho - RO. \n",
      " latitude       | -8.758.459                                                                 \n",
      " longitude      | -638.540.109                                                               \n",
      " telefone       | (69) 992222374                                                             \n",
      " localizacao    | Urbana                                                                     \n",
      " localidade     | A escola não está em área de localização diferenciada                      \n",
      " categoria10    | Pública                                                                    \n",
      " dependencia    | Estadual                                                                   \n",
      " categoria12    | Não Informado                                                              \n",
      " conveniada     | Não                                                                        \n",
      " regulamentacao | Não                                                                        \n",
      " porte          | Entre 51 e 200 matrículas de escolarização                                 \n",
      " modalidade     | Ensino Fundamental                                                         \n",
      " ofertas        | Atendimento Educacional Especializado                                      \n",
      " restricao      | ESCOLA ATENDE EXCLUSIVAMENTE ALUNOS COM DEFICIÊNCIA                        \n",
      " situacao       | NULL                                                                       \n",
      "only showing top 1 row\n",
      "\n"
     ]
    },
    {
     "name": "stderr",
     "output_type": "stream",
     "text": [
      "24/06/03 02:26:13 WARN PythonRunner: Detected deadlock while completing task 0.0 in stage 79 (TID 131): Attempting to kill Python Worker\n",
      "                                                                                \r"
     ]
    }
   ],
   "source": [
    "dfs_sch.show(n=1, truncate=False, vertical=True)"
   ]
  },
  {
   "cell_type": "markdown",
   "id": "f9f9986a-a2a5-45d4-b59d-cb97c33eb848",
   "metadata": {},
   "source": [
    "#### 2 - SQL Instructions"
   ]
  },
  {
   "cell_type": "markdown",
   "id": "fd982053-ef65-4760-a5c4-c7dee7ff22f6",
   "metadata": {},
   "source": [
    "##### 2.1 - Create index relationship"
   ]
  },
  {
   "cell_type": "code",
   "execution_count": 52,
   "id": "e6baca8f-1429-4789-8c10-b2ba12a03e29",
   "metadata": {},
   "outputs": [
    {
     "name": "stderr",
     "output_type": "stream",
     "text": [
      "                                                                                \r"
     ]
    }
   ],
   "source": [
    "n_pro = 14000\n",
    "n_std = 1000000\n",
    "cod_schools  = dfs_sch.rdd.map(lambda x: x['cod_inep']).collect()"
   ]
  },
  {
   "cell_type": "code",
   "execution_count": 53,
   "id": "1c891970-e777-4873-98e8-ae99264daeab",
   "metadata": {},
   "outputs": [],
   "source": [
    "labels_udf = f.udf(lambda indx: cod_schools[indx-1], StringType())"
   ]
  },
  {
   "cell_type": "markdown",
   "id": "f90159b2-6234-4732-bbcf-dd547ae223b3",
   "metadata": {},
   "source": [
    "##### - Professors"
   ]
  },
  {
   "cell_type": "code",
   "execution_count": 54,
   "id": "9c703e59-b723-4625-b845-b92c08e0b0d4",
   "metadata": {},
   "outputs": [],
   "source": [
    "cod_schools = cod_schools[:n_pro]\n",
    "dfs_pro = dfs_pro.withColumn(\"id\", row_number().over(Window.orderBy(monotonically_increasing_id())))\n",
    "dfs_pro = dfs_pro.withColumn('esc_cod', labels_udf('id')) "
   ]
  },
  {
   "cell_type": "markdown",
   "id": "24707a9a-242c-433c-92cf-fef768b968d6",
   "metadata": {},
   "source": [
    "##### - Students"
   ]
  },
  {
   "cell_type": "code",
   "execution_count": 55,
   "id": "97af8d77-c515-403b-b771-b99169257aa0",
   "metadata": {},
   "outputs": [],
   "source": [
    "cod_schools = cod_schools[:n_std]\n",
    "dfs_std = dfs_std.withColumn(\"id\", row_number().over(Window.orderBy(monotonically_increasing_id())))\n",
    "dfs_std = dfs_std.withColumn('esc_cod', labels_udf('id')) \n",
    "dfs_std = dfs_std.withColumn('idade', (f.months_between(f.current_date(), f.col('alu_data_nascimento')) / 12).cast('int'))"
   ]
  },
  {
   "cell_type": "markdown",
   "id": "e3ee704c-5361-41d0-ae41-38c87ebf5dcb",
   "metadata": {},
   "source": [
    "##### 2.2 - Simple Queries "
   ]
  },
  {
   "cell_type": "code",
   "execution_count": 56,
   "id": "0eccf643-b982-40a4-9781-9588e775e4b5",
   "metadata": {},
   "outputs": [],
   "source": [
    "dfs_std.createOrReplaceTempView(\"tb_student\")\n",
    "dfs_pro.createOrReplaceTempView(\"tb_professor\")\n",
    "dfs_sch.createOrReplaceTempView(\"tb_school\")"
   ]
  },
  {
   "cell_type": "markdown",
   "id": "a2833bfa-aed9-49a6-8570-aa33a49a82c9",
   "metadata": {},
   "source": [
    "##### 2.2.1 - Students"
   ]
  },
  {
   "cell_type": "code",
   "execution_count": 47,
   "id": "a585098a-f35a-4824-978f-68bf217c0901",
   "metadata": {},
   "outputs": [
    {
     "name": "stderr",
     "output_type": "stream",
     "text": [
      "24/06/03 02:24:56 WARN WindowExec: No Partition Defined for Window operation! Moving all data to a single partition, this can cause serious performance degradation.\n",
      "24/06/03 02:24:56 WARN WindowExec: No Partition Defined for Window operation! Moving all data to a single partition, this can cause serious performance degradation.\n",
      "24/06/03 02:24:56 WARN WindowExec: No Partition Defined for Window operation! Moving all data to a single partition, this can cause serious performance degradation.\n",
      "[Stage 72:>                                                         (0 + 6) / 6]\r"
     ]
    },
    {
     "name": "stdout",
     "output_type": "stream",
     "text": [
      "+--------+--------------------+------------------+------+-------------------+-----------------------+-----+\n",
      "| esc_cod|            alu_nome|        alu_cidade|alu_uf|alu_data_nascimento|progresso_alfabetizacao|idade|\n",
      "+--------+--------------------+------------------+------+-------------------+-----------------------+-----+\n",
      "|11000023|     Enrico da Rocha|             Pinto|    RR|         2017-09-15|                      1|    6|\n",
      "|11000040|Maria Sophia Costela|  Novaes de Castro|    TO|         2016-07-23|                      8|    7|\n",
      "|11000058|     Letícia Cardoso|   Vieira do Campo|    AM|         2015-07-11|                      9|    8|\n",
      "|11000082|        Sophia Nunes|    Alves do Galho|    GO|         2017-12-05|                      8|    6|\n",
      "|11000104|      Melissa Santos|           Martins|    PB|         2017-08-22|                      7|    6|\n",
      "|11000198|      Lavínia Moraes|           Freitas|    MT|         2015-04-04|                      2|    9|\n",
      "|11000201|Srta. Ana Lívia N...|       Cunha Verde|    SE|         2015-03-20|                      2|    9|\n",
      "|11000252|   Davi Luiz Peixoto|            da Paz|    TO|         2015-05-16|                      8|    9|\n",
      "|11000260|        Joana Vieira|          Ferreira|    RR|         2017-06-06|                      5|    6|\n",
      "|11000295|       Lucas Martins|Barbosa de Cardoso|    CE|         2018-02-26|                      8|    6|\n",
      "|11000309|João Felipe da Rocha| da Rocha Paulista|    AM|         2016-03-18|                      3|    8|\n",
      "|11000317|     Alexia Monteiro|   Santos da Prata|    MG|         2017-01-01|                      5|    7|\n",
      "+--------+--------------------+------------------+------+-------------------+-----------------------+-----+\n",
      "only showing top 12 rows\n",
      "\n"
     ]
    },
    {
     "name": "stderr",
     "output_type": "stream",
     "text": [
      "                                                                                \r"
     ]
    }
   ],
   "source": [
    "sqlc.sql(\"\"\"SELECT esc_cod, alu_nome, alu_cidade, alu_uf, alu_data_nascimento, progresso_alfabetizacao, idade\n",
    "         FROM tb_student\"\"\").show(12)"
   ]
  },
  {
   "cell_type": "markdown",
   "id": "7dfb61cf-69ea-46f9-b59f-1327605afa6d",
   "metadata": {},
   "source": [
    "##### 2.2.2 - Proferssors"
   ]
  },
  {
   "cell_type": "code",
   "execution_count": 16,
   "id": "710b2be6-e5ca-4829-86bf-805677a3c9d2",
   "metadata": {},
   "outputs": [
    {
     "name": "stderr",
     "output_type": "stream",
     "text": [
      "24/06/03 02:13:50 WARN WindowExec: No Partition Defined for Window operation! Moving all data to a single partition, this can cause serious performance degradation.\n",
      "24/06/03 02:13:50 WARN WindowExec: No Partition Defined for Window operation! Moving all data to a single partition, this can cause serious performance degradation.\n",
      "24/06/03 02:13:50 WARN WindowExec: No Partition Defined for Window operation! Moving all data to a single partition, this can cause serious performance degradation.\n"
     ]
    },
    {
     "name": "stdout",
     "output_type": "stream",
     "text": [
      "+--------+--------------------+--------------------+------+--------------------+-----------+---------------+----------+\n",
      "| esc_cod|            pro_nome|          pro_cidade|pro_uf|           pro_email|pro_salario|pro_credenciado| pro_senha|\n",
      "+--------+--------------------+--------------------+------+--------------------+-----------+---------------+----------+\n",
      "|11000023| Sr. Vicente Azevedo|      Silva de Sales|    PE|jesusvitoria@exam...|    4227.73|              0|N#M4NiMHR^|\n",
      "|11000040|  Dra. Alexia Farias|            da Costa|    AP|ycardoso@example.com|    7843.36|              1|J(A2jexU%7|\n",
      "|11000058|   Pedro Lucas Jesus|     Campos do Campo|    RN|gcaldeira@example...|   21981.02|              0|P103!Pgjv&|\n",
      "|11000082|        Rebeca Silva|             Freitas|    RJ|   ilima@example.net|   19198.67|              0|)!Y50WvC1i|\n",
      "|11000104|   Sra. Maysa Aragão|              Farias|    MA|melissa70@example...|   18552.86|              0|P+_9B(3rrO|\n",
      "|11000198|        Bruno Novaes|   Barros das Pedras|    MA|catarina64@exampl...|   25173.37|              0|&Ng^8Kt00f|\n",
      "|11000201|Srta. Ana Júlia G...|      Gomes do Campo|    AM|novaesheloisa@exa...|   11463.25|              0|sCe6PL7cT^|\n",
      "|11000252|     Otávio Caldeira|da Conceição de G...|    TO|cardosoleonardo@e...|   24750.81|              1|WMW5foMd#9|\n",
      "|11000260|     Giovanna Barros|         Lima do Sul|    PI|limaemanuella@exa...|   12915.21|              0|k+b0PKHswn|\n",
      "|11000295|      Vinicius Ramos|            da Rocha|    PA|wcardoso@example.org|   20898.46|              1|&8Pg+oPVU5|\n",
      "|11000309|Pedro Lucas Nogueira|     Freitas da Mata|    AM|joao-guilherme60@...|    3759.24|              1|&5P36SyZBk|\n",
      "|11000317|        Sophie Pires|      Costa Paulista|    RO| ida-luz@example.com|   16720.33|              0|zDpe1JsuE(|\n",
      "+--------+--------------------+--------------------+------+--------------------+-----------+---------------+----------+\n",
      "only showing top 12 rows\n",
      "\n"
     ]
    }
   ],
   "source": [
    "sqlc.sql(\"\"\"SELECT esc_cod, pro_nome, pro_cidade, pro_uf, pro_email, pro_salario, pro_credenciado, pro_senha\n",
    "         FROM tb_professor\"\"\").show(12)"
   ]
  },
  {
   "cell_type": "markdown",
   "id": "65106a71-2690-42a1-a33c-0176874199ae",
   "metadata": {},
   "source": [
    "##### 2.2.3- Schools"
   ]
  },
  {
   "cell_type": "code",
   "execution_count": 43,
   "id": "85e6b59f-7cdb-4653-8e2f-bb00ddef7ace",
   "metadata": {},
   "outputs": [
    {
     "name": "stderr",
     "output_type": "stream",
     "text": [
      "[Stage 71:>                                                         (0 + 1) / 1]\r"
     ]
    },
    {
     "name": "stdout",
     "output_type": "stream",
     "text": [
      "+--------+--------------------+-----------+---+--------------+--------------------+-------------+-----------+--------------------+\n",
      "|cod_inep|              escola|  municipio| uf|      telefone|          modalidade|  categoria12|dependencia|           restricao|\n",
      "+--------+--------------------+-----------+---+--------------+--------------------+-------------+-----------+--------------------+\n",
      "|11000023|EEEE ABNAEL MACHA...|Porto Velho| RO|(69) 992222374|  Ensino Fundamental|Não Informado|   Estadual|ESCOLA ATENDE EXC...|\n",
      "|11000040|EMEIEF PEQUENOS T...|Porto Velho| RO| (69) 32274273|   Educação Infantil|Não Informado|  Municipal|ESCOLA EM FUNCION...|\n",
      "|11000058|CENTRO DE ENSINO ...|Porto Velho| RO| (69) 32244473|Educação Infantil...|   Particular|    Privada|ESCOLA EM FUNCION...|\n",
      "|11000082|CENTRO EDUCACIONA...|Porto Velho| RO| (69) 32245636|Educação Infantil...|   Particular|    Privada|ESCOLA EM FUNCION...|\n",
      "|11000104|CENTRO EDUC CORA ...|Porto Velho| RO| (69) 32252616|Educação Infantil...|   Particular|    Privada|ESCOLA EM FUNCION...|\n",
      "|11000198|COLEGIO SAPIENS -...|Porto Velho| RO| (69) 32116000|Educação Infantil...|   Particular|    Privada|ESCOLA EM FUNCION...|\n",
      "|11000201|EMEF PROF HERBERT...|Porto Velho| RO|          NULL|  Ensino Fundamental|Não Informado|  Municipal|ESCOLA EM FUNCION...|\n",
      "|11000252|COLEGIO SAPIENS -...|Porto Velho| RO| (69) 32116001|Educação Infantil...|   Particular|    Privada|ESCOLA EM FUNCION...|\n",
      "|11000260|COLEGIO TIRADENTE...|Porto Velho| RO| (69) 32250051|Ensino Fundamenta...|Não Informado|   Estadual|ESCOLA EM FUNCION...|\n",
      "|11000295| EEF SANTA MARCELINA|Porto Velho| RO| (69) 21414396|Educação Infantil...| Filantrópica|    Privada|ESCOLA EM FUNCION...|\n",
      "|11000309| EMEI MARISE CASTIEL|Porto Velho| RO| (69) 32290396|   Educação Infantil|Não Informado|  Municipal|ESCOLA EM FUNCION...|\n",
      "|11000317|EEEFM DR JOSE OTI...|Porto Velho| RO| (69) 32225808|Ensino Fundamenta...|Não Informado|   Estadual|ESCOLA EM FUNCION...|\n",
      "+--------+--------------------+-----------+---+--------------+--------------------+-------------+-----------+--------------------+\n",
      "only showing top 12 rows\n",
      "\n"
     ]
    },
    {
     "name": "stderr",
     "output_type": "stream",
     "text": [
      "24/06/03 02:24:28 WARN PythonRunner: Detected deadlock while completing task 0.0 in stage 71 (TID 115): Attempting to kill Python Worker\n",
      "                                                                                \r"
     ]
    }
   ],
   "source": [
    "sqlc.sql(\"\"\"SELECT cod_inep, escola, municipio, uf, telefone, modalidade, categoria12, dependencia, restricao\n",
    "        FROM tb_school\"\"\").show(12)"
   ]
  },
  {
   "cell_type": "markdown",
   "id": "fb167533-9bbf-4f01-bc9e-044a3d7e6e14",
   "metadata": {},
   "source": [
    "##### 2.3 - Queries with filters and aggregations"
   ]
  },
  {
   "cell_type": "markdown",
   "id": "e5719a4b-61cb-4e1d-8c8b-1ed6526f8ae1",
   "metadata": {},
   "source": [
    "##### 2.3.1 - Query one\n",
    " - How many students achieved a literacy fluency level equal to or greater than 60%?"
   ]
  },
  {
   "cell_type": "code",
   "execution_count": 18,
   "id": "3e6ad1c6-e31c-4edc-984e-d678648d50d4",
   "metadata": {},
   "outputs": [
    {
     "name": "stderr",
     "output_type": "stream",
     "text": [
      "[Stage 24:>                                                         (0 + 6) / 6]\r"
     ]
    },
    {
     "name": "stdout",
     "output_type": "stream",
     "text": [
      "+-------+\n",
      "|tot_apr|\n",
      "+-------+\n",
      "| 444517|\n",
      "+-------+\n",
      "\n"
     ]
    },
    {
     "name": "stderr",
     "output_type": "stream",
     "text": [
      "                                                                                \r"
     ]
    }
   ],
   "source": [
    "sqlc.sql(\"\"\"SELECT COUNT(*) as tot_apr FROM tb_student WHERE progresso_alfabetizacao >= 6\"\"\").show()"
   ]
  },
  {
   "cell_type": "markdown",
   "id": "6f630644-37f9-4b20-bd6a-27683ae8fcde",
   "metadata": {},
   "source": [
    "##### 2.3.2 - Query two\n",
    " - Which teachers are accredited for assessment literacy fluency level?"
   ]
  },
  {
   "cell_type": "code",
   "execution_count": 19,
   "id": "6ef128af-bd5d-4c40-9e3d-0116bddc2bb7",
   "metadata": {},
   "outputs": [
    {
     "name": "stderr",
     "output_type": "stream",
     "text": [
      "24/06/03 02:13:56 WARN WindowExec: No Partition Defined for Window operation! Moving all data to a single partition, this can cause serious performance degradation.\n",
      "24/06/03 02:13:56 WARN WindowExec: No Partition Defined for Window operation! Moving all data to a single partition, this can cause serious performance degradation.\n",
      "24/06/03 02:13:56 WARN WindowExec: No Partition Defined for Window operation! Moving all data to a single partition, this can cause serious performance degradation.\n",
      "24/06/03 02:13:56 WARN WindowExec: No Partition Defined for Window operation! Moving all data to a single partition, this can cause serious performance degradation.\n",
      "24/06/03 02:13:56 WARN WindowExec: No Partition Defined for Window operation! Moving all data to a single partition, this can cause serious performance degradation.\n"
     ]
    },
    {
     "name": "stdout",
     "output_type": "stream",
     "text": [
      "+--------+--------------------+--------------------+------+--------------------+---------------+\n",
      "| esc_cod|            pro_nome|          pro_cidade|pro_uf|           pro_email|pro_credenciado|\n",
      "+--------+--------------------+--------------------+------+--------------------+---------------+\n",
      "|11000040|  Dra. Alexia Farias|            da Costa|    AP|ycardoso@example.com|              1|\n",
      "|11000252|     Otávio Caldeira|da Conceição de G...|    TO|cardosoleonardo@e...|              1|\n",
      "|11000295|      Vinicius Ramos|            da Rocha|    PA|wcardoso@example.org|              1|\n",
      "|11000309|Pedro Lucas Nogueira|     Freitas da Mata|    AM|joao-guilherme60@...|              1|\n",
      "|11000350|Luiz Henrique da ...|   Farias das Flores|    GO|bcorreia@example.com|              1|\n",
      "|11000384|      Stephany Pires|     Campos do Norte|    RO|ryanteixeira@exam...|              1|\n",
      "|11000422|        Luiza Duarte|      Porto de Pires|    PI|  acunha@example.org|              1|\n",
      "|11000457|   Emanuella da Rosa| Duarte dos Dourados|    BA|zribeiro@example.net|              1|\n",
      "|11000473|      Isadora Farias|   Aragão das Pedras|    CE|alanajesus@exampl...|              1|\n",
      "|11000562|          Alana Dias|    Rezende de Porto|    MS|barbosastella@exa...|              1|\n",
      "|11000597|    Stephany da Mota|             Pereira|    RO|teixeiraantonio@e...|              1|\n",
      "|11000651|    Fernanda Freitas|              Santos|    AM|ana-luizada-mata@...|              1|\n",
      "|11000660|        Nicole Souza|  das Neves de Minas|    RO|costajuan@example...|              1|\n",
      "|11000678|   Maria Alice Rocha|    Castro do Amparo|    MA|sda-cunha@example...|              1|\n",
      "|11000708| Srta. Eloah Costela|               Nunes|    ES|yfernandes@exampl...|              1|\n",
      "|11000848|     Stephany da Paz|               Rocha|    AM| isaac17@example.org|              1|\n",
      "|11000856|       Mariane Moura|       Moura da Mata|    RS|thiago45@example.org|              1|\n",
      "|11000937|           Ana Pires|    Almeida da Serra|    RJ|barrosana-sophia@...|              1|\n",
      "|11000970|          Juan Pinto|               Silva|    AL|hfreitas@example.net|              1|\n",
      "|11001011|       Kamilly Costa|             Barbosa|    SP|silveiraluiz-henr...|              1|\n",
      "+--------+--------------------+--------------------+------+--------------------+---------------+\n",
      "only showing top 20 rows\n",
      "\n"
     ]
    }
   ],
   "source": [
    "sqlc.sql(\"\"\"SELECT esc_cod, pro_nome, pro_cidade, pro_uf, pro_email, pro_credenciado FROM tb_professor WHERE pro_credenciado = 1\"\"\").show()"
   ]
  },
  {
   "cell_type": "markdown",
   "id": "69da1c3c-cabd-4e39-8890-e8e7794889ea",
   "metadata": {},
   "source": [
    "##### 2.3.3 - Query three\n",
    " - What are the ages of the students achieved a literacy fluency level equal to or greater than 60%"
   ]
  },
  {
   "cell_type": "code",
   "execution_count": 20,
   "id": "a884ac8f-9838-4b83-bdae-f13ac9710d34",
   "metadata": {},
   "outputs": [
    {
     "name": "stderr",
     "output_type": "stream",
     "text": [
      "[Stage 30:>                                                         (0 + 6) / 6]\r"
     ]
    },
    {
     "name": "stdout",
     "output_type": "stream",
     "text": [
      "+-----+------+\n",
      "|idade| total|\n",
      "+-----+------+\n",
      "|    6|109023|\n",
      "|    7|108942|\n",
      "|    8|108814|\n",
      "|    5| 62559|\n",
      "|    9| 55179|\n",
      "+-----+------+\n",
      "\n"
     ]
    },
    {
     "name": "stderr",
     "output_type": "stream",
     "text": [
      "                                                                                \r"
     ]
    }
   ],
   "source": [
    "sqlc.sql(\"\"\"SELECT idade, count(*) as total FROM tb_student WHERE progresso_alfabetizacao >= 6 \n",
    "        GROUP BY idade ORDER BY total DESC\"\"\").show()"
   ]
  },
  {
   "cell_type": "markdown",
   "id": "69cde946-a131-4d68-8e8d-1e64a67e649f",
   "metadata": {},
   "source": [
    "##### 2.3.4 - Query four\n",
    " - How many and how many are the schools per geographic region?"
   ]
  },
  {
   "cell_type": "code",
   "execution_count": 21,
   "id": "183841d2-8848-4202-a16b-5d52d2562536",
   "metadata": {},
   "outputs": [
    {
     "name": "stderr",
     "output_type": "stream",
     "text": [
      "[Stage 33:===================>                                      (1 + 2) / 3]\r"
     ]
    },
    {
     "name": "stdout",
     "output_type": "stream",
     "text": [
      "+---+-----+\n",
      "| uf|total|\n",
      "+---+-----+\n",
      "| SP|30580|\n",
      "| BA|16037|\n",
      "| MG|15752|\n",
      "| RJ|11538|\n",
      "| MA|11436|\n",
      "| PA|10646|\n",
      "| RS| 9976|\n",
      "| PR| 9536|\n",
      "| PE| 8016|\n",
      "| CE| 7648|\n",
      "| SC| 6633|\n",
      "| AM| 5460|\n",
      "| GO| 4678|\n",
      "| PB| 4676|\n",
      "| PI| 4188|\n",
      "| RN| 3439|\n",
      "| ES| 3078|\n",
      "| AL| 2895|\n",
      "| MT| 2735|\n",
      "| SE| 2045|\n",
      "| MS| 1820|\n",
      "| TO| 1585|\n",
      "| AC| 1520|\n",
      "| DF| 1306|\n",
      "| RO| 1236|\n",
      "| RR|  892|\n",
      "| AP|  879|\n",
      "+---+-----+\n",
      "\n"
     ]
    },
    {
     "name": "stderr",
     "output_type": "stream",
     "text": [
      "                                                                                \r"
     ]
    }
   ],
   "source": [
    "sqlc.sql(\"\"\"SELECT uf, count(*) as total FROM tb_school GROUP BY uf ORDER BY total DESC\"\"\").show(27)"
   ]
  },
  {
   "cell_type": "markdown",
   "id": "421a8f3b-c8d8-48bc-84bb-e236da18fe71",
   "metadata": {},
   "source": [
    " - What are the schools per geographic region?  (SP as exemple)"
   ]
  },
  {
   "cell_type": "code",
   "execution_count": 22,
   "id": "eb553dd0-d1ce-4525-bea3-6410ecf26a0d",
   "metadata": {},
   "outputs": [
    {
     "name": "stderr",
     "output_type": "stream",
     "text": [
      "[Stage 36:===================>                                      (1 + 2) / 3]\r"
     ]
    },
    {
     "name": "stdout",
     "output_type": "stream",
     "text": [
      "+--------+--------------------+---------------+---+\n",
      "|cod_inep|              escola|      municipio| uf|\n",
      "+--------+--------------------+---------------+---+\n",
      "|35073581|1 DE MAIO ESCOLA ...|        Guarujá| SP|\n",
      "|35158562|  10 DE MAIO COLEGIO|      São Paulo| SP|\n",
      "|35561277|101 DALMATAS CENT...|          Salto| SP|\n",
      "|35179589|101 DALMATAS ESCO...|Mogi das Cruzes| SP|\n",
      "|35155226|  13 DE JUNHO ESCOLA| Junqueirópolis| SP|\n",
      "|35456913|      14 BIS COLEGIO|      São Paulo| SP|\n",
      "|35169511|       14 BIS ESCOLA|       Campinas| SP|\n",
      "|35116580| 14 DE AGOSTO ESCOLA|   Mirandópolis| SP|\n",
      "|35142724| 14 DE JULHO COLEGIO|      São Paulo| SP|\n",
      "|35234527|15 DE AGOSTO CAIC...|            Jaú| SP|\n",
      "|35923370|         16 DE JULHO|    Santo André| SP|\n",
      "|35033881|      17 DE SETEMBRO|        Pompéia| SP|\n",
      "+--------+--------------------+---------------+---+\n",
      "only showing top 12 rows\n",
      "\n"
     ]
    },
    {
     "name": "stderr",
     "output_type": "stream",
     "text": [
      "                                                                                \r"
     ]
    }
   ],
   "source": [
    "sqlc.sql(\"\"\"SELECT cod_inep, escola, municipio, uf FROM tb_school WHERE uf = 'SP' ORDER BY escola ASC\"\"\").show(12)"
   ]
  },
  {
   "cell_type": "markdown",
   "id": "8fbf474c-27be-403f-a52c-bb0cc741b114",
   "metadata": {},
   "source": [
    "##### 2.3.5 - Query five\n",
    " - How many and what types of schools are found in each geographic region?\n"
   ]
  },
  {
   "cell_type": "code",
   "execution_count": 23,
   "id": "d81499e6-e553-4df3-be6d-b51b1c15dc87",
   "metadata": {},
   "outputs": [
    {
     "name": "stderr",
     "output_type": "stream",
     "text": [
      "[Stage 37:======================================>                   (2 + 1) / 3]\r"
     ]
    },
    {
     "name": "stdout",
     "output_type": "stream",
     "text": [
      "+---+-----------+-------------+\n",
      "| uf|dependencia|total_escolas|\n",
      "+---+-----------+-------------+\n",
      "| AC|   Estadual|          609|\n",
      "| AC|    Federal|            7|\n",
      "| AC|  Municipal|          860|\n",
      "| AC|    Privada|           44|\n",
      "| AL|   Estadual|          313|\n",
      "| AL|    Federal|           17|\n",
      "| AL|  Municipal|         2040|\n",
      "| AL|    Privada|          525|\n",
      "| AM|   Estadual|          757|\n",
      "| AM|    Federal|           18|\n",
      "| AM|  Municipal|         4321|\n",
      "| AM|    Privada|          364|\n",
      "| AP|   Estadual|          384|\n",
      "| AP|    Federal|            6|\n",
      "| AP|  Municipal|          403|\n",
      "| AP|    Privada|           86|\n",
      "| BA|   Estadual|         1062|\n",
      "| BA|    Federal|           37|\n",
      "| BA|  Municipal|        12071|\n",
      "| BA|    Privada|         2867|\n",
      "| CE|   Estadual|          754|\n",
      "| CE|    Federal|           34|\n",
      "| CE|  Municipal|         5146|\n",
      "| CE|    Privada|         1714|\n",
      "| DF|   Estadual|          700|\n",
      "| DF|    Federal|           11|\n",
      "| DF|    Privada|          595|\n",
      "| ES|   Estadual|          408|\n",
      "| ES|    Federal|           23|\n",
      "| ES|  Municipal|         2233|\n",
      "| ES|    Privada|          414|\n",
      "| GO|   Estadual|          965|\n",
      "| GO|    Federal|           27|\n",
      "| GO|  Municipal|         2533|\n",
      "| GO|    Privada|         1153|\n",
      "| MA|   Estadual|         1073|\n",
      "| MA|    Federal|           31|\n",
      "| MA|  Municipal|         9221|\n",
      "| MA|    Privada|         1111|\n",
      "| MG|   Estadual|         3459|\n",
      "| MG|    Federal|           81|\n",
      "| MG|  Municipal|         8438|\n",
      "| MG|    Privada|         3774|\n",
      "| MS|   Estadual|          354|\n",
      "| MS|    Federal|           11|\n",
      "| MS|  Municipal|          989|\n",
      "| MS|    Privada|          466|\n",
      "| MT|   Estadual|          675|\n",
      "| MT|    Federal|           19|\n",
      "| MT|  Municipal|         1575|\n",
      "| MT|    Privada|          466|\n",
      "| PA|   Estadual|          987|\n",
      "| PA|    Federal|           23|\n",
      "| PA|  Municipal|         8668|\n",
      "| PA|    Privada|          968|\n",
      "| PB|   Estadual|          635|\n",
      "| PB|    Federal|           26|\n",
      "| PB|  Municipal|         3107|\n",
      "| PB|    Privada|          908|\n",
      "| PE|   Estadual|         1059|\n",
      "| PE|    Federal|           26|\n",
      "| PE|  Municipal|         4770|\n",
      "| PE|    Privada|         2161|\n",
      "| PI|   Estadual|          640|\n",
      "| PI|    Federal|           23|\n",
      "| PI|  Municipal|         3040|\n",
      "| PI|    Privada|          485|\n",
      "| PR|   Estadual|         2104|\n",
      "| PR|    Federal|           30|\n",
      "| PR|  Municipal|         5258|\n",
      "| PR|    Privada|         2144|\n",
      "| RJ|   Estadual|         1284|\n",
      "| RJ|    Federal|           61|\n",
      "| RJ|  Municipal|         5443|\n",
      "| RJ|    Privada|         4750|\n",
      "| RN|   Estadual|          587|\n",
      "| RN|    Federal|           27|\n",
      "| RN|  Municipal|         2110|\n",
      "| RN|    Privada|          715|\n",
      "| RO|   Estadual|          408|\n",
      "| RO|    Federal|           10|\n",
      "| RO|  Municipal|          636|\n",
      "| RO|    Privada|          182|\n",
      "| RR|   Estadual|          376|\n",
      "| RR|    Federal|            7|\n",
      "| RR|  Municipal|          462|\n",
      "| RR|    Privada|           47|\n",
      "| RS|   Estadual|         2345|\n",
      "| RS|    Federal|           49|\n",
      "| RS|  Municipal|         4844|\n",
      "| RS|    Privada|         2738|\n",
      "| SC|   Estadual|         1279|\n",
      "| SC|    Federal|           39|\n",
      "| SC|  Municipal|         3881|\n",
      "| SC|    Privada|         1434|\n",
      "| SE|   Estadual|          318|\n",
      "| SE|    Federal|           10|\n",
      "| SE|  Municipal|         1252|\n",
      "| SE|    Privada|          465|\n",
      "| SP|   Estadual|         5750|\n",
      "| SP|    Federal|           42|\n",
      "| SP|  Municipal|        13214|\n",
      "| SP|    Privada|        11574|\n",
      "| TO|   Estadual|          498|\n",
      "| TO|    Federal|           11|\n",
      "| TO|  Municipal|          910|\n",
      "| TO|    Privada|          166|\n",
      "+---+-----------+-------------+\n",
      "\n"
     ]
    },
    {
     "name": "stderr",
     "output_type": "stream",
     "text": [
      "                                                                                \r"
     ]
    }
   ],
   "source": [
    "sqlc.sql(\"\"\"SELECT uf, dependencia, COUNT(*) AS total_escolas FROM tb_school GROUP BY uf, dependencia ORDER BY uf, dependencia\"\"\").show(120)"
   ]
  },
  {
   "cell_type": "markdown",
   "id": "e08fd85d-fe89-48d7-a85e-332307405e56",
   "metadata": {},
   "source": [
    "##### 2.3.6 - Query six\n",
    "    - Which cities and regions can you find second-year students with the best fluency levels?"
   ]
  },
  {
   "cell_type": "code",
   "execution_count": 58,
   "id": "89587630-3a60-4e5c-bb12-1c6781d50b71",
   "metadata": {},
   "outputs": [],
   "source": [
    "#rows limited up to cluster resources\n",
    "dfs_sch_limited = dfs_sch.limit(5000)\n",
    "dfs_sch_limited = dfs_sch_limited.withColumnRenamed(\"esc_cod\", \"esc_cod_inep\")  \n",
    "dfs_std_limited = dfs_std.limit(5000)\n",
    "dfs_sch_std = dfs_sch_limited.join(dfs_std_limited, dfs_sch_limited.cod_inep == dfs_std_limited.esc_cod, \"inner\")  \n",
    "dfs_sch_std.createOrReplaceTempView(\"tb_school_student\")"
   ]
  },
  {
   "cell_type": "code",
   "execution_count": 77,
   "id": "a077c666-0e28-44d5-b099-94777151bc13",
   "metadata": {},
   "outputs": [
    {
     "name": "stderr",
     "output_type": "stream",
     "text": [
      "24/06/03 02:37:08 WARN WindowExec: No Partition Defined for Window operation! Moving all data to a single partition, this can cause serious performance degradation.\n",
      "24/06/03 02:37:08 WARN WindowExec: No Partition Defined for Window operation! Moving all data to a single partition, this can cause serious performance degradation.\n",
      "[Stage 136:===================>                                     (1 + 2) / 3]\r"
     ]
    },
    {
     "name": "stdout",
     "output_type": "stream",
     "text": [
      "+---+--------------------+-------------+\n",
      "| uf|           municipio|nota_fluencia|\n",
      "+---+--------------------+-------------+\n",
      "| AC|     Cruzeiro do Sul|            9|\n",
      "| AC|         Mâncio Lima|            9|\n",
      "| AC|Marechal Thaumaturgo|            9|\n",
      "| AC|        Porto Walter|            9|\n",
      "| AC|     Rodrigues Alves|            9|\n",
      "| AC|               Feijó|            9|\n",
      "| AC|              Jordão|            9|\n",
      "| AC|            Tarauacá|            9|\n",
      "| AC|       Manoel Urbano|            9|\n",
      "| AC| Santa Rosa do Purus|            9|\n",
      "| AC|      Sena Madureira|            9|\n",
      "| AC|          Rio Branco|            9|\n",
      "| AC|              Bujari|            9|\n",
      "| AC|            Capixaba|            9|\n",
      "| AC|   Plácido de Castro|            9|\n",
      "| AC|    Senador Guiomard|            9|\n",
      "| AC|          Porto Acre|            9|\n",
      "| AC|        Assis Brasil|            9|\n",
      "| AC|           Brasiléia|            9|\n",
      "| AC|      Epitaciolândia|            9|\n",
      "| AC|              Xapuri|            9|\n",
      "| AM|          Novo Airão|            9|\n",
      "| AM|Santa Isabel do R...|            9|\n",
      "| AM|São Gabriel da Ca...|            9|\n",
      "| AM|               Maraã|            9|\n",
      "| AM|             Amaturá|            9|\n",
      "| AM|    Atalaia do Norte|            9|\n",
      "| AM|   Benjamin Constant|            9|\n",
      "| AM|           Fonte Boa|            9|\n",
      "| AM|               Jutaí|            9|\n",
      "| AM|Santo Antônio do Içá|            9|\n",
      "| AM|São Paulo de Oliv...|            9|\n",
      "| AM|           Tabatinga|            9|\n",
      "| AM|           Tonantins|            9|\n",
      "| AM|            Carauari|            9|\n",
      "| AM|            Eirunepé|            9|\n",
      "| AM|              Envira|            9|\n",
      "| AM|             Ipixuna|            9|\n",
      "| AM|           Itamarati|            9|\n",
      "| AM|               Juruá|            9|\n",
      "| AM|            Alvarães|            9|\n",
      "| AM|                Tefé|            9|\n",
      "| AM|              Beruri|            9|\n",
      "| AM|          Caapiranga|            9|\n",
      "| AM|               Coari|            9|\n",
      "| AM|             Codajás|            9|\n",
      "| AM|             Autazes|            9|\n",
      "| AM|             Careiro|            9|\n",
      "| AM|           Manaquiri|            9|\n",
      "| AM|   Careiro da Várzea|            9|\n",
      "| AM|            Iranduba|            9|\n",
      "| AM|          Manacapuru|            9|\n",
      "| AM|              Manaus|            9|\n",
      "| AM|Presidente Figuei...|            9|\n",
      "| AM|    Rio Preto da Eva|            9|\n",
      "| AM|         Itacoatiara|            9|\n",
      "| AM|          Itapiranga|            9|\n",
      "| AM|Nova Olinda do Norte|            9|\n",
      "| AM|              Silves|            9|\n",
      "| AM|         Urucurituba|            9|\n",
      "| AM|         Barreirinha|            9|\n",
      "| AM|  Boa Vista do Ramos|            9|\n",
      "| AM|               Maués|            9|\n",
      "| AM|            Nhamundá|            9|\n",
      "| AM|           Parintins|            9|\n",
      "| AM|             Urucará|            9|\n",
      "| AM|        Boca do Acre|            9|\n",
      "| AM|              Lábrea|            9|\n",
      "| AM|              Tapauá|            9|\n",
      "| AM|               Borba|            9|\n",
      "| AM|             Humaitá|            9|\n",
      "| AM|            Manicoré|            9|\n",
      "| AM|       Novo Aripuanã|            9|\n",
      "| RO|         Porto Velho|            9|\n",
      "| RO|    Alvorada D'Oeste|            9|\n",
      "| RO|         Nova Mamoré|            9|\n",
      "| RO|Campo Novo de Ron...|            9|\n",
      "| RO|             Buritis|            9|\n",
      "| RO|     Itapuã do Oeste|            9|\n",
      "| RO|São Francisco do ...|            9|\n",
      "| RO|       Guajará-Mirim|            9|\n",
      "| RO|           Ariquemes|            9|\n",
      "| RO|  Machadinho D'Oeste|            9|\n",
      "| RO|       Vale do Anari|            9|\n",
      "| RO|             Cujubim|            9|\n",
      "| RO|         Cacaulândia|            9|\n",
      "| RO|                Jaru|            9|\n",
      "| RO|           Ji-Paraná|            9|\n",
      "| RO| Ouro Preto do Oeste|            9|\n",
      "| RO|          Nova União|            9|\n",
      "| RO|       Teixeirópolis|            9|\n",
      "| RO|Governador Jorge ...|            9|\n",
      "| RO|    Mirante da Serra|            9|\n",
      "| RO|               Urupá|            9|\n",
      "| RO|     Vale do Paraíso|            9|\n",
      "| RO|Nova Brasilândia ...|            9|\n",
      "| RO|São Miguel do Gua...|            9|\n",
      "| RO|Alta Floresta D'O...|            9|\n",
      "| RO|Alto Alegre dos P...|            9|\n",
      "| RO|              Cacoal|            9|\n",
      "| RO|     Espigão D'Oeste|            9|\n",
      "| RO|      Rolim de Moura|            9|\n",
      "| RO|        Castanheiras|            9|\n",
      "| RO|       Pimenta Bueno|            9|\n",
      "| RO|             Parecis|            9|\n",
      "| RO|         Chupinguaia|            9|\n",
      "| RO|             Vilhena|            9|\n",
      "| RO|              Cabixi|            9|\n",
      "| RO|          Cerejeiras|            9|\n",
      "| RO|   Colorado do Oeste|            9|\n",
      "| AM|            Barcelos|            8|\n",
      "| AM|              Japurá|            8|\n",
      "| AM|              Uarini|            8|\n",
      "| AM|               Anamã|            8|\n",
      "| AM|               Anori|            8|\n",
      "| AM|São Sebastião do ...|            8|\n",
      "| AM|              Pauini|            8|\n",
      "| RO|   Presidente Médici|            8|\n",
      "| RO|       Costa Marques|            8|\n",
      "| RO|          Rio Crespo|            8|\n",
      "+---+--------------------+-------------+\n",
      "only showing top 120 rows\n",
      "\n"
     ]
    },
    {
     "name": "stderr",
     "output_type": "stream",
     "text": [
      "24/06/03 02:37:12 WARN PythonRunner: Detected deadlock while completing task 0.0 in stage 136 (TID 256): Attempting to kill Python Worker\n",
      "24/06/03 02:37:12 WARN PythonRunner: Detected deadlock while completing task 1.0 in stage 136 (TID 257): Attempting to kill Python Worker\n",
      "                                                                                \r"
     ]
    }
   ],
   "source": [
    "sqlc.sql(\"\"\"SELECT uf, municipio, max(progresso_alfabetizacao) AS nota_fluencia FROM tb_school_student \n",
    "            WHERE idade >=6 \n",
    "            GROUP BY uf, municipio\n",
    "            ORDER BY nota_fluencia DESC, uf ASC\"\"\").show(120)"
   ]
  },
  {
   "cell_type": "code",
   "execution_count": null,
   "id": "86d77006-d22a-485b-b26f-e4aecaea1f33",
   "metadata": {},
   "outputs": [],
   "source": []
  },
  {
   "cell_type": "markdown",
   "id": "4dd2ee59-214c-46b6-b9b4-cc46b5347343",
   "metadata": {},
   "source": [
    "#### 3 - Generating a SQLite Database"
   ]
  },
  {
   "cell_type": "code",
   "execution_count": 54,
   "id": "d9d81949-d7e2-4530-85b1-de0dea547722",
   "metadata": {},
   "outputs": [],
   "source": [
    "conn = sqlite3.connect('afa-bd.db')"
   ]
  },
  {
   "cell_type": "code",
   "execution_count": 55,
   "id": "fc1bfb29-2371-4075-868c-c0b24efb6123",
   "metadata": {},
   "outputs": [
    {
     "name": "stderr",
     "output_type": "stream",
     "text": [
      "                                                                                \r"
     ]
    },
    {
     "data": {
      "text/plain": [
       "14000"
      ]
     },
     "execution_count": 55,
     "metadata": {},
     "output_type": "execute_result"
    }
   ],
   "source": [
    "dfs_pro.toPandas().to_sql('tb_professors', con=conn, if_exists='replace')"
   ]
  },
  {
   "cell_type": "code",
   "execution_count": 78,
   "id": "14ac9ec5-c7b0-42a2-a032-dbbc24667174",
   "metadata": {},
   "outputs": [
    {
     "name": "stderr",
     "output_type": "stream",
     "text": [
      "24/06/02 23:28:23 WARN WindowExec: No Partition Defined for Window operation! Moving all data to a single partition, this can cause serious performance degradation.\n",
      "24/06/02 23:28:23 WARN WindowExec: No Partition Defined for Window operation! Moving all data to a single partition, this can cause serious performance degradation.\n",
      "24/06/02 23:28:23 WARN WindowExec: No Partition Defined for Window operation! Moving all data to a single partition, this can cause serious performance degradation.\n",
      "                                                                                \r"
     ]
    },
    {
     "data": {
      "text/plain": [
       "14000"
      ]
     },
     "execution_count": 78,
     "metadata": {},
     "output_type": "execute_result"
    }
   ],
   "source": [
    "dfs_std.limit(14000).toPandas().to_sql('tb_students', con=conn, if_exists='replace')"
   ]
  },
  {
   "cell_type": "code",
   "execution_count": 79,
   "id": "4e777fad-04bb-444e-8707-9597a24c6dac",
   "metadata": {},
   "outputs": [
    {
     "name": "stderr",
     "output_type": "stream",
     "text": [
      "                                                                                \r"
     ]
    },
    {
     "data": {
      "text/plain": [
       "180230"
      ]
     },
     "execution_count": 79,
     "metadata": {},
     "output_type": "execute_result"
    }
   ],
   "source": [
    "dfs_sch.toPandas().to_sql('tb_schools', con=conn, if_exists='replace')"
   ]
  },
  {
   "cell_type": "code",
   "execution_count": null,
   "id": "a4db95c5-4c7a-4334-a0f3-1ca40cd714e4",
   "metadata": {},
   "outputs": [],
   "source": []
  },
  {
   "cell_type": "code",
   "execution_count": null,
   "id": "b72fdd9e-2121-48c8-beef-4e0e9d182804",
   "metadata": {},
   "outputs": [],
   "source": []
  }
 ],
 "metadata": {
  "kernelspec": {
   "display_name": "Python 3 (ipykernel)",
   "language": "python",
   "name": "python3"
  },
  "language_info": {
   "codemirror_mode": {
    "name": "ipython",
    "version": 3
   },
   "file_extension": ".py",
   "mimetype": "text/x-python",
   "name": "python",
   "nbconvert_exporter": "python",
   "pygments_lexer": "ipython3",
   "version": "3.10.14"
  }
 },
 "nbformat": 4,
 "nbformat_minor": 5
}
